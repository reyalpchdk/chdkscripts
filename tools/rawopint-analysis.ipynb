{
 "cells": [
  {
   "cell_type": "code",
   "execution_count": 1,
   "metadata": {},
   "outputs": [],
   "source": [
    "from rawopint_log_plot import RawOpDataPlot"
   ]
  },
  {
   "cell_type": "code",
   "execution_count": 2,
   "metadata": {
    "scrolled": false
   },
   "outputs": [
    {
     "name": "stdout",
     "output_type": "stream",
     "text": [
      "loaded 3 runs\n",
      "ixus140_elph130-100a 1.6.0-6019 rawopint 0.26-dev\n",
      "60 frames, 2.0s interval, 11/08/2021 19:10:17 - 11/08/2021 19:12:15, shot 8658 - 8717\n",
      "ev_change_max: 0.333 (32) ev_shift: 0 (0) ev_use_initial:False\n",
      "bv ev shift: 30% base: First\n",
      "smooth factor: 0.5 limit: 0.7 rev: 0.5\n",
      "over thresh: 2.0% margin: 0.25 (24)\n",
      "under thresh: 50.0%  margin: 4 (384)\n",
      "meter high thresh: 1 (96) limit: 1.75 (168) weight: 200\n",
      "meter low thresh: -2 (-192) limit: -4 (-384) weight: 200\n"
     ]
    }
   ],
   "source": [
    "#widget provides interactive zoom, but requires ipympl, doesn't export\n",
    "%matplotlib widget\n",
    "# set default plot size to something reasonable for full size browser window\n",
    "import matplotlib.pyplot as plt\n",
    "plt.rc('figure',figsize=(9,6),dpi=100)\n",
    "\n",
    "all_runs=RawOpDataPlot.load_csv('rawopint.csv')\n",
    "print(f'loaded {len(all_runs)} runs')\n",
    "data=all_runs[0]\n",
    "data.summary()"
   ]
  },
  {
   "cell_type": "code",
   "execution_count": 3,
   "metadata": {},
   "outputs": [
    {
     "data": {
      "application/vnd.jupyter.widget-view+json": {
       "model_id": "37095afcef824702b5b7f019c56b4cbd",
       "version_major": 2,
       "version_minor": 0
      },
      "text/plain": [
       "Canvas(toolbar=Toolbar(toolitems=[('Home', 'Reset original view', 'home', 'home'), ('Back', 'Back to previous …"
      ]
     },
     "metadata": {},
     "output_type": "display_data"
    }
   ],
   "source": [
    "data.plot_group('apex96',label_cols=['exp','d_ev','meter_weight','under_weight','over_weight'])"
   ]
  },
  {
   "cell_type": "code",
   "execution_count": 4,
   "metadata": {},
   "outputs": [
    {
     "data": {
      "application/vnd.jupyter.widget-view+json": {
       "model_id": "b22c7f2dbc8a410db35a60a5ebedaee9",
       "version_major": 2,
       "version_minor": 0
      },
      "text/plain": [
       "Canvas(toolbar=Toolbar(toolitems=[('Home', 'Reset original view', 'home', 'home'), ('Back', 'Back to previous …"
      ]
     },
     "metadata": {},
     "output_type": "display_data"
    }
   ],
   "source": [
    "data.plot_group('ev_change', alpha=0.5)"
   ]
  },
  {
   "cell_type": "code",
   "execution_count": 5,
   "metadata": {},
   "outputs": [
    {
     "data": {
      "application/vnd.jupyter.widget-view+json": {
       "model_id": "b764399964e5403482786d08d0b25979",
       "version_major": 2,
       "version_minor": 0
      },
      "text/plain": [
       "Canvas(toolbar=Toolbar(toolitems=[('Home', 'Reset original view', 'home', 'home'), ('Back', 'Back to previous …"
      ]
     },
     "metadata": {},
     "output_type": "display_data"
    }
   ],
   "source": [
    "data.plot_group('frac')"
   ]
  },
  {
   "cell_type": "code",
   "execution_count": 6,
   "metadata": {},
   "outputs": [
    {
     "data": {
      "application/vnd.jupyter.widget-view+json": {
       "model_id": "1907462b6bcb44ed80ddb956607cbe09",
       "version_major": 2,
       "version_minor": 0
      },
      "text/plain": [
       "Canvas(toolbar=Toolbar(toolitems=[('Home', 'Reset original view', 'home', 'home'), ('Back', 'Back to previous …"
      ]
     },
     "metadata": {},
     "output_type": "display_data"
    }
   ],
   "source": [
    "data.plot_group('weight')"
   ]
  },
  {
   "cell_type": "code",
   "execution_count": 7,
   "metadata": {},
   "outputs": [
    {
     "name": "stdout",
     "output_type": "stream",
     "text": [
      "(48.6198, 30, 8688)\n",
      "(200, 30, 8688)\n"
     ]
    }
   ],
   "source": [
    "print(data.find_max('over_frac'))\n",
    "print(data.find_max('over_weight'))"
   ]
  },
  {
   "cell_type": "code",
   "execution_count": 8,
   "metadata": {},
   "outputs": [
    {
     "data": {
      "text/plain": [
       "{'ev_change_max': 32,\n",
       " 'ev_shift': 0,\n",
       " 'ev_use_initial': False,\n",
       " 'bv_ev_shift_pct': 30,\n",
       " 'bv_ev_shift_base_bv': False,\n",
       " 'tv96_long_limit': 0,\n",
       " 'tv96_short_limit': 1053,\n",
       " 'tv96_sv_thresh': 192,\n",
       " 'tv96_nd_thresh': 861,\n",
       " 'nd_value': 0,\n",
       " 'nd_hysteresis': 48,\n",
       " 'sv96_max': 699,\n",
       " 'sv96_target': 411,\n",
       " 'meter_width_pct': 90,\n",
       " 'meter_height_pct': 90,\n",
       " 'meter_step': 15,\n",
       " 'meter_high_thresh': 96,\n",
       " 'meter_high_limit': 168,\n",
       " 'meter_high_limit_weight': 200,\n",
       " 'meter_low_thresh': -192,\n",
       " 'meter_low_limit': -384,\n",
       " 'meter_low_limit_weight': 200,\n",
       " 'over_margin_ev': 24,\n",
       " 'over_thresh_frac': 20000,\n",
       " 'under_margin_ev': 384,\n",
       " 'under_thresh_frac': 500000,\n",
       " 'over_weight_max': 200,\n",
       " 'under_weight_max': 200,\n",
       " 'over_prio': 0,\n",
       " 'under_prio': 0,\n",
       " 'histo_step': 15,\n",
       " 'do_draw': False,\n",
       " 'draw_meter': 'none',\n",
       " 'draw_gauge_y_pct': 0,\n",
       " 'smooth_factor': 500,\n",
       " 'smooth_limit_frac': 700,\n",
       " 'ev_change_rev_frac': 500,\n",
       " 'meter_top': 185,\n",
       " 'meter_left': 245,\n",
       " 'meter_width': 4188,\n",
       " 'meter_height': 3132,\n",
       " 'meter_x_count': 279,\n",
       " 'meter_y_count': 208,\n",
       " 'histo_samples': 70610,\n",
       " 'rawopint_version': '0.26-dev',\n",
       " 'platform': 'ixus140_elph130',\n",
       " 'platform_sub': '100a',\n",
       " 'chdk_version': '1.6.0-6019',\n",
       " 'build_date': 'Oct 26 2021 19:33:47',\n",
       " 'interval': 2000,\n",
       " 'capmode': 'P',\n",
       " 'canon_img_fmt': 1,\n",
       " 'cont_mode': True,\n",
       " 'fw_nd_value': 276,\n",
       " 'sd': 849,\n",
       " 'af_ok': True,\n",
       " 'fl': 5000,\n",
       " 'efl': 28000,\n",
       " 'zoom_pos': 0,\n",
       " 'black_level': 127,\n",
       " 'neutral': 722,\n",
       " 'over_histo_min': 867,\n",
       " 'under_histo_max': 41}"
      ]
     },
     "execution_count": 8,
     "metadata": {},
     "output_type": "execute_result"
    }
   ],
   "source": [
    "data.init_vals"
   ]
  },
  {
   "cell_type": "code",
   "execution_count": null,
   "metadata": {},
   "outputs": [],
   "source": []
  }
 ],
 "metadata": {
  "kernelspec": {
   "display_name": "Python 3",
   "language": "python",
   "name": "python3"
  },
  "language_info": {
   "codemirror_mode": {
    "name": "ipython",
    "version": 3
   },
   "file_extension": ".py",
   "mimetype": "text/x-python",
   "name": "python",
   "nbconvert_exporter": "python",
   "pygments_lexer": "ipython3",
   "version": "3.7.9"
  }
 },
 "nbformat": 4,
 "nbformat_minor": 4
}
